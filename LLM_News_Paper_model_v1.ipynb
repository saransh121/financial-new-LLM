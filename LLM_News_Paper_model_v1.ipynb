{
 "cells": [
  {
   "cell_type": "code",
   "execution_count": 5,
   "id": "79829256",
   "metadata": {},
   "outputs": [],
   "source": [
    "from langchain import HuggingFaceHub"
   ]
  },
  {
   "cell_type": "code",
   "execution_count": 8,
   "id": "f3327f6c",
   "metadata": {},
   "outputs": [],
   "source": [
    "model=\"facebook/bart-large-cnn\"\n",
    "\n",
    "llm = HuggingFaceHub(repo_id=model,model_kwargs={\"temperature\":0.9})"
   ]
  },
  {
   "cell_type": "code",
   "execution_count": 9,
   "id": "e9702604",
   "metadata": {},
   "outputs": [],
   "source": [
    "from langchain import LLMChain , PromptTemplate\n",
    "prompt = PromptTemplate(\n",
    "    input_variables=[\"text\"],\n",
    "    template=\"explain the text{text}\"\n",
    ")\n",
    "\n",
    "llm_chain = LLMChain(llm = llm,prompt = prompt)\n",
    "\n",
    "# llm_chain.run(\"data\")"
   ]
  },
  {
   "cell_type": "markdown",
   "id": "1fe6f419",
   "metadata": {},
   "source": [
    "### web scraping"
   ]
  },
  {
   "cell_type": "code",
   "execution_count": 10,
   "id": "525f95f5",
   "metadata": {},
   "outputs": [],
   "source": [
    "from bs4 import BeautifulSoup\n",
    "import requests"
   ]
  },
  {
   "cell_type": "code",
   "execution_count": 120,
   "id": "7431aed3",
   "metadata": {},
   "outputs": [
    {
     "name": "stdout",
     "output_type": "stream",
     "text": [
      "https://www.financialexpress.com/industry/banking-finance/private-banks-grow-deposits-at-a-faster-pace-in-fy23/3110796/\n",
      "https://www.financialexpress.com/industry/airtel-sees-108-jump-in-subscription-for-global-roaming-packs/3110791/\n",
      "https://www.financialexpress.com/money/retirement-funds-dont-crack-your-nest-egg/3110756/\n",
      "https://www.financialexpress.com/money/estate-planning-no-heirs-ways-to-plan-who-will-inherit-your-wealth/3110750/\n",
      "https://www.financialexpress.com/industry/india-adds-60-gccs-in-q4-of-fy23/3110746/\n",
      "https://www.financialexpress.com/economy/electronics-pharma-to-drive-exports-exim-bank-deputy-md/3110737/\n",
      "https://www.financialexpress.com/business/defence-indo-nepal-relations-are-undergirded-by-power-grids-pipelines-and-better-connectivity-3110717/\n",
      "https://www.financialexpress.com/industry/sme/msme-fin-payu-visa-yes-bank-launch-new-payment-solution-for-merchants-to-cut-costs-boost-cash-flow-digitise-smbs-3/3110806/\n",
      "https://www.financialexpress.com/economy/ubs-revises-fy24-gdp-growth-forecast-up-by-70-bps-to-6-2-pc/3110792/\n",
      "https://www.financialexpress.com/education-2/maharashtra-ssc-10th-result-2023-live-updates-msbshse-10th-results-direct-link-pass-percentage-at-mahresultnicin/3110716/\n",
      "https://www.financialexpress.com/industry/aditya-birla-group-to-invest-rs-1250-crore-into-its-financial-services-arm/3110772/\n",
      "https://www.financialexpress.com/sports/ms-dhoni-has-successfully-undergone-knee-surgery-in-mumbai-csk-ceo-viswanathan/3110758/\n",
      "https://www.financialexpress.com/industry/foxconn-to-make-iphones-in-indias-karnataka-by-next-april-state-govt/3110745/\n",
      "https://www.financialexpress.com/market/ipo-news/institutions-lap-up-coal-india-shares-with-bids-worth-rs-6500-cr-govt-exercises-green-shoe-option/3110708/\n",
      "https://www.financialexpress.com/business/brandwagon-aditya-birla-group-rolls-out-bigoncircularity-campaign-ahead-of-world-environment-day-3110616/\n",
      "https://www.financialexpress.com/industry/coal-india-output-grows-9-5-pc-to-record-60-mt-in-may-offtake-rises-4-pc-to-637-mt/3110703/\n",
      "https://www.financialexpress.com/business/blockchain-td-cowens-crypto-branch-shuts-down-365-days-post-opening-3110694/\n",
      "https://www.financialexpress.com/education-2/ncert-drops-chapters-on-democracy-periodic-table-political-parties-from-class-10-textbooks/3110644/\n",
      "https://www.financialexpress.com/world-news/donald-trump-returns-to-campaign-trail-in-iowa-as-gop-rival-desantis-makes-case-to-new-hampshire-voters/3110636/\n",
      "https://www.financialexpress.com/industry/sme/msme-fin-3-years-of-pm-svanidhi-among-fastest-growing-micro-credit-schemes-by-govt-says-hardeep-s-puri/3110632/\n"
     ]
    }
   ],
   "source": [
    "HEADERS = {'User-Agent': 'Mozilla/5.0 (iPad; CPU OS 12_2 like Mac OS X) AppleWebKit/605.1.15 (KHTML, like Gecko) Mobile/15E148'}\n",
    "htmlPage = requests.get(\"https://www.financialexpress.com/latest-news/\",headers = HEADERS)\n",
    "soup = BeautifulSoup(htmlPage.text,\"html.parser\")\n",
    "# htmlPage.text\n",
    "news_list = []\n",
    "link = []\n",
    "article_len = len(soup.find_all('article'))\n",
    "for i in range(0,article_len):\n",
    "    link1 = soup.find_all('article')[i].a['href']\n",
    "    print(link1)\n",
    "    link.append(link1)\n",
    "    htmlPage1 = requests.get(link1,headers = HEADERS)\n",
    "    soup1 = BeautifulSoup(htmlPage1.text,\"html.parser\")\n",
    "    news_list.append(soup1.text.split('ALSO READ')[0])\n",
    "d = {\"link\":link, \"news_list\":news_list}  "
   ]
  },
  {
   "cell_type": "code",
   "execution_count": 12,
   "id": "520124ff",
   "metadata": {},
   "outputs": [
    {
     "data": {
      "text/plain": [
       "20"
      ]
     },
     "execution_count": 12,
     "metadata": {},
     "output_type": "execute_result"
    }
   ],
   "source": [
    "len(news_list)"
   ]
  },
  {
   "cell_type": "code",
   "execution_count": 13,
   "id": "5f8a3c88",
   "metadata": {},
   "outputs": [],
   "source": [
    "import pandas as pd"
   ]
  },
  {
   "cell_type": "code",
   "execution_count": 121,
   "id": "0724fd1a",
   "metadata": {},
   "outputs": [
    {
     "data": {
      "text/html": [
       "<div>\n",
       "<style scoped>\n",
       "    .dataframe tbody tr th:only-of-type {\n",
       "        vertical-align: middle;\n",
       "    }\n",
       "\n",
       "    .dataframe tbody tr th {\n",
       "        vertical-align: top;\n",
       "    }\n",
       "\n",
       "    .dataframe thead th {\n",
       "        text-align: right;\n",
       "    }\n",
       "</style>\n",
       "<table border=\"1\" class=\"dataframe\">\n",
       "  <thead>\n",
       "    <tr style=\"text-align: right;\">\n",
       "      <th></th>\n",
       "      <th>link</th>\n",
       "      <th>news_list</th>\n",
       "    </tr>\n",
       "  </thead>\n",
       "  <tbody>\n",
       "    <tr>\n",
       "      <th>0</th>\n",
       "      <td>https://www.financialexpress.com/industry/bank...</td>\n",
       "      <td>Private banks grow deposits at a faster ...</td>\n",
       "    </tr>\n",
       "    <tr>\n",
       "      <th>1</th>\n",
       "      <td>https://www.financialexpress.com/industry/airt...</td>\n",
       "      <td>Airtel sees 108% jump in subscription fo...</td>\n",
       "    </tr>\n",
       "    <tr>\n",
       "      <th>2</th>\n",
       "      <td>https://www.financialexpress.com/money/retirem...</td>\n",
       "      <td>Retirement funds: Don’t crack your nest ...</td>\n",
       "    </tr>\n",
       "    <tr>\n",
       "      <th>3</th>\n",
       "      <td>https://www.financialexpress.com/money/estate-...</td>\n",
       "      <td>Estate Planning: No heirs? Ways to plan ...</td>\n",
       "    </tr>\n",
       "    <tr>\n",
       "      <th>4</th>\n",
       "      <td>https://www.financialexpress.com/industry/indi...</td>\n",
       "      <td>India adds 60 GCCs in Q4 of FY23 | The F...</td>\n",
       "    </tr>\n",
       "  </tbody>\n",
       "</table>\n",
       "</div>"
      ],
      "text/plain": [
       "                                                link  \\\n",
       "0  https://www.financialexpress.com/industry/bank...   \n",
       "1  https://www.financialexpress.com/industry/airt...   \n",
       "2  https://www.financialexpress.com/money/retirem...   \n",
       "3  https://www.financialexpress.com/money/estate-...   \n",
       "4  https://www.financialexpress.com/industry/indi...   \n",
       "\n",
       "                                           news_list  \n",
       "0        Private banks grow deposits at a faster ...  \n",
       "1        Airtel sees 108% jump in subscription fo...  \n",
       "2        Retirement funds: Don’t crack your nest ...  \n",
       "3        Estate Planning: No heirs? Ways to plan ...  \n",
       "4        India adds 60 GCCs in Q4 of FY23 | The F...  "
      ]
     },
     "execution_count": 121,
     "metadata": {},
     "output_type": "execute_result"
    }
   ],
   "source": [
    "df_news = pd.DataFrame(d)\n",
    "df_news.head()"
   ]
  },
  {
   "cell_type": "code",
   "execution_count": 122,
   "id": "b77a17f8",
   "metadata": {},
   "outputs": [],
   "source": [
    "df_news['news_list'] = df_news['news_list'].astype(str)\n"
   ]
  },
  {
   "cell_type": "code",
   "execution_count": 16,
   "id": "a3baf4f1",
   "metadata": {},
   "outputs": [],
   "source": [
    "def llm_fun(text):\n",
    "    try:\n",
    "        return llm_chain.run(text)\n",
    "        \n",
    "    except:\n",
    "        return \"\"\n",
    "  "
   ]
  },
  {
   "cell_type": "code",
   "execution_count": 17,
   "id": "1dc72fbf",
   "metadata": {},
   "outputs": [
    {
     "data": {
      "text/plain": [
       "'MS Dhoni has successfully undergone knee surgery in Mumbai: CSK CEO Viswanathan. Former India captain Mahendra Singh Dhoni successfully underwent a left knee surgery. Dhoni had played the entire season with heavy strapping on his left knee. He hopes of playing in the 17th edition of the Indian Premier League next year.'"
      ]
     },
     "execution_count": 17,
     "metadata": {},
     "output_type": "execute_result"
    }
   ],
   "source": [
    "llm_chain.run(df_news['news_list'][1])"
   ]
  },
  {
   "cell_type": "code",
   "execution_count": 123,
   "id": "8279ca73",
   "metadata": {},
   "outputs": [
    {
     "data": {
      "text/html": [
       "<div>\n",
       "<style scoped>\n",
       "    .dataframe tbody tr th:only-of-type {\n",
       "        vertical-align: middle;\n",
       "    }\n",
       "\n",
       "    .dataframe tbody tr th {\n",
       "        vertical-align: top;\n",
       "    }\n",
       "\n",
       "    .dataframe thead th {\n",
       "        text-align: right;\n",
       "    }\n",
       "</style>\n",
       "<table border=\"1\" class=\"dataframe\">\n",
       "  <thead>\n",
       "    <tr style=\"text-align: right;\">\n",
       "      <th></th>\n",
       "      <th>link</th>\n",
       "      <th>news_list</th>\n",
       "      <th>summary</th>\n",
       "    </tr>\n",
       "  </thead>\n",
       "  <tbody>\n",
       "    <tr>\n",
       "      <th>0</th>\n",
       "      <td>https://www.financialexpress.com/industry/bank...</td>\n",
       "      <td>Private banks grow deposits at a faster ...</td>\n",
       "      <td>The deposit mobilisation gap between PSBs and ...</td>\n",
       "    </tr>\n",
       "    <tr>\n",
       "      <th>1</th>\n",
       "      <td>https://www.financialexpress.com/industry/airt...</td>\n",
       "      <td>Airtel sees 108% jump in subscription fo...</td>\n",
       "      <td>India’s second-largest telecom operator Bharti...</td>\n",
       "    </tr>\n",
       "    <tr>\n",
       "      <th>2</th>\n",
       "      <td>https://www.financialexpress.com/money/retirem...</td>\n",
       "      <td>Retirement funds: Don’t crack your nest ...</td>\n",
       "      <td>Retirement funds: Don’t crack your nest eggTak...</td>\n",
       "    </tr>\n",
       "    <tr>\n",
       "      <th>3</th>\n",
       "      <td>https://www.financialexpress.com/money/estate-...</td>\n",
       "      <td>Estate Planning: No heirs? Ways to plan ...</td>\n",
       "      <td>Estate Planning: No heirs? Ways to plan who wi...</td>\n",
       "    </tr>\n",
       "    <tr>\n",
       "      <th>4</th>\n",
       "      <td>https://www.financialexpress.com/industry/indi...</td>\n",
       "      <td>India adds 60 GCCs in Q4 of FY23 | The F...</td>\n",
       "      <td>India added around 60 global capacity centres ...</td>\n",
       "    </tr>\n",
       "  </tbody>\n",
       "</table>\n",
       "</div>"
      ],
      "text/plain": [
       "                                                link  \\\n",
       "0  https://www.financialexpress.com/industry/bank...   \n",
       "1  https://www.financialexpress.com/industry/airt...   \n",
       "2  https://www.financialexpress.com/money/retirem...   \n",
       "3  https://www.financialexpress.com/money/estate-...   \n",
       "4  https://www.financialexpress.com/industry/indi...   \n",
       "\n",
       "                                           news_list  \\\n",
       "0        Private banks grow deposits at a faster ...   \n",
       "1        Airtel sees 108% jump in subscription fo...   \n",
       "2        Retirement funds: Don’t crack your nest ...   \n",
       "3        Estate Planning: No heirs? Ways to plan ...   \n",
       "4        India adds 60 GCCs in Q4 of FY23 | The F...   \n",
       "\n",
       "                                             summary  \n",
       "0  The deposit mobilisation gap between PSBs and ...  \n",
       "1  India’s second-largest telecom operator Bharti...  \n",
       "2  Retirement funds: Don’t crack your nest eggTak...  \n",
       "3  Estate Planning: No heirs? Ways to plan who wi...  \n",
       "4  India added around 60 global capacity centres ...  "
      ]
     },
     "execution_count": 123,
     "metadata": {},
     "output_type": "execute_result"
    }
   ],
   "source": [
    "df_news[\"summary\"] = df_news['news_list'].apply(lambda x:llm_fun(x) )\n",
    "df_news.head()"
   ]
  },
  {
   "cell_type": "code",
   "execution_count": 124,
   "id": "373ff241",
   "metadata": {},
   "outputs": [],
   "source": [
    "df_news.to_csv('latest_news_02_06_2023.csv',index=False)"
   ]
  },
  {
   "cell_type": "code",
   "execution_count": 125,
   "id": "853c4331",
   "metadata": {},
   "outputs": [
    {
     "data": {
      "text/html": [
       "<div>\n",
       "<style scoped>\n",
       "    .dataframe tbody tr th:only-of-type {\n",
       "        vertical-align: middle;\n",
       "    }\n",
       "\n",
       "    .dataframe tbody tr th {\n",
       "        vertical-align: top;\n",
       "    }\n",
       "\n",
       "    .dataframe thead th {\n",
       "        text-align: right;\n",
       "    }\n",
       "</style>\n",
       "<table border=\"1\" class=\"dataframe\">\n",
       "  <thead>\n",
       "    <tr style=\"text-align: right;\">\n",
       "      <th></th>\n",
       "      <th>link</th>\n",
       "      <th>news_list</th>\n",
       "      <th>summary</th>\n",
       "    </tr>\n",
       "  </thead>\n",
       "  <tbody>\n",
       "    <tr>\n",
       "      <th>0</th>\n",
       "      <td>https://www.financialexpress.com/industry/bank...</td>\n",
       "      <td>Private banks grow deposits at a faster ...</td>\n",
       "      <td>The deposit mobilisation gap between PSBs and ...</td>\n",
       "    </tr>\n",
       "    <tr>\n",
       "      <th>1</th>\n",
       "      <td>https://www.financialexpress.com/industry/airt...</td>\n",
       "      <td>Airtel sees 108% jump in subscription fo...</td>\n",
       "      <td>India’s second-largest telecom operator Bharti...</td>\n",
       "    </tr>\n",
       "    <tr>\n",
       "      <th>2</th>\n",
       "      <td>https://www.financialexpress.com/money/retirem...</td>\n",
       "      <td>Retirement funds: Don’t crack your nest ...</td>\n",
       "      <td>Retirement funds: Don’t crack your nest eggTak...</td>\n",
       "    </tr>\n",
       "    <tr>\n",
       "      <th>3</th>\n",
       "      <td>https://www.financialexpress.com/money/estate-...</td>\n",
       "      <td>Estate Planning: No heirs? Ways to plan ...</td>\n",
       "      <td>Estate Planning: No heirs? Ways to plan who wi...</td>\n",
       "    </tr>\n",
       "    <tr>\n",
       "      <th>4</th>\n",
       "      <td>https://www.financialexpress.com/industry/indi...</td>\n",
       "      <td>India adds 60 GCCs in Q4 of FY23 | The F...</td>\n",
       "      <td>India added around 60 global capacity centres ...</td>\n",
       "    </tr>\n",
       "  </tbody>\n",
       "</table>\n",
       "</div>"
      ],
      "text/plain": [
       "                                                link  \\\n",
       "0  https://www.financialexpress.com/industry/bank...   \n",
       "1  https://www.financialexpress.com/industry/airt...   \n",
       "2  https://www.financialexpress.com/money/retirem...   \n",
       "3  https://www.financialexpress.com/money/estate-...   \n",
       "4  https://www.financialexpress.com/industry/indi...   \n",
       "\n",
       "                                           news_list  \\\n",
       "0        Private banks grow deposits at a faster ...   \n",
       "1        Airtel sees 108% jump in subscription fo...   \n",
       "2        Retirement funds: Don’t crack your nest ...   \n",
       "3        Estate Planning: No heirs? Ways to plan ...   \n",
       "4        India adds 60 GCCs in Q4 of FY23 | The F...   \n",
       "\n",
       "                                             summary  \n",
       "0  The deposit mobilisation gap between PSBs and ...  \n",
       "1  India’s second-largest telecom operator Bharti...  \n",
       "2  Retirement funds: Don’t crack your nest eggTak...  \n",
       "3  Estate Planning: No heirs? Ways to plan who wi...  \n",
       "4  India added around 60 global capacity centres ...  "
      ]
     },
     "execution_count": 125,
     "metadata": {},
     "output_type": "execute_result"
    }
   ],
   "source": [
    "df = pd.read_csv('latest_news_02_06_2023.csv')\n",
    "df.head()"
   ]
  },
  {
   "cell_type": "code",
   "execution_count": 50,
   "id": "e8dffce1",
   "metadata": {
    "collapsed": true
   },
   "outputs": [
    {
     "data": {
      "application/vnd.jupyter.widget-view+json": {
       "model_id": "aff86ca40cbf464d9bfe3c5764458889",
       "version_major": 2,
       "version_minor": 0
      },
      "text/plain": [
       "Downloading pytorch_model.bin:   0%|          | 0.00/439M [00:00<?, ?B/s]"
      ]
     },
     "metadata": {},
     "output_type": "display_data"
    },
    {
     "data": {
      "application/vnd.jupyter.widget-view+json": {
       "model_id": "9fa60f8acbfa46c49d65bbd9975405a0",
       "version_major": 2,
       "version_minor": 0
      },
      "text/plain": [
       "Downloading (…)solve/main/vocab.txt:   0%|          | 0.00/226k [00:00<?, ?B/s]"
      ]
     },
     "metadata": {},
     "output_type": "display_data"
    },
    {
     "data": {
      "text/plain": [
       "[{'label': 'Neutral', 'score': 0.9998539686203003}]"
      ]
     },
     "execution_count": 50,
     "metadata": {},
     "output_type": "execute_result"
    }
   ],
   "source": [
    "from transformers import pipeline\n",
    "sentiment_task = pipeline(\"sentiment-analysis\", model=\"yiyanghkust/finbert-tone\", \n",
    "                          tokenizer=\"yiyanghkust/finbert-tone\")\n",
    "sentiment_task(\"Foxconn, the world’s largest contract electronics manufacturer, has set a target of manufacturing 20 million iPhones a year at the plant in Devanahalli, on the outskirts of state capital and tech hub Bengaluru. The land for the factory would be handed over to Foxconn by July 1, the government said. The project is expected to create around 50,000 jobs.\")"
   ]
  },
  {
   "cell_type": "code",
   "execution_count": 126,
   "id": "961ab286",
   "metadata": {},
   "outputs": [
    {
     "data": {
      "text/plain": [
       "[[{'label': 'Positive', 'score': 0.9993284940719604}],\n",
       " [{'label': 'Positive', 'score': 0.9208971858024597}],\n",
       " [{'label': 'Positive', 'score': 0.9999421834945679}]]"
      ]
     },
     "execution_count": 126,
     "metadata": {},
     "output_type": "execute_result"
    }
   ],
   "source": [
    "summary = df['summary'].tolist()\n",
    "\n",
    "sentiments = []\n",
    "for sen in summary:\n",
    "    sentiments.append(sentiment_task(sen))\n",
    "    \n",
    "sentiments[0:3]"
   ]
  },
  {
   "cell_type": "code",
   "execution_count": 127,
   "id": "532f5ef4",
   "metadata": {},
   "outputs": [],
   "source": [
    "labels = [item[0]['label'] for item in sentiments]\n",
    "scores = [item[0]['score'] for item in sentiments]\n",
    "df['sentiment'] = labels\n",
    "df['confidence'] = scores"
   ]
  },
  {
   "cell_type": "code",
   "execution_count": 59,
   "id": "83103ba0",
   "metadata": {},
   "outputs": [],
   "source": [
    "from transformers import AutoTokenizer , AutoModelForTokenClassification\n",
    "from transformers import pipeline\n",
    "\n",
    "tokenizer = AutoTokenizer.from_pretrained(\"dslim/bert-base-NER\")\n",
    "classification = AutoModelForTokenClassification.from_pretrained(\"dslim/bert-base-NER\")\n",
    "token_classification = pipeline('ner',tokenizer=tokenizer,model= classification)\n",
    "\n",
    "t = token_classification(df['summary'][0])"
   ]
  },
  {
   "cell_type": "code",
   "execution_count": 109,
   "id": "af696ec0",
   "metadata": {},
   "outputs": [],
   "source": [
    "def companyName(text):\n",
    "    t = token_classification(text)\n",
    "    tetx = \"\"\n",
    "    data = []\n",
    "    for v in t:\n",
    "        ty = v['word']\n",
    "        start = int(v['start'])\n",
    "        end = int(v['end'])\n",
    "        if v['entity'] == 'B-ORG':\n",
    "            if tetx:\n",
    "                data.append(tetx)\n",
    "            tetx = text[start:end]\n",
    "        elif v['entity'] == 'I-ORG':\n",
    "            tetx = tetx + text[start:end]\n",
    "\n",
    "    if tetx:\n",
    "        data.append(tetx)\n",
    "    return data"
   ]
  },
  {
   "cell_type": "code",
   "execution_count": 110,
   "id": "550f907b",
   "metadata": {},
   "outputs": [
    {
     "data": {
      "text/plain": [
       "['AdityaBirlaGroup', 'BSE', 'R']"
      ]
     },
     "execution_count": 110,
     "metadata": {},
     "output_type": "execute_result"
    }
   ],
   "source": [
    "companyName(df['summary'][0])"
   ]
  },
  {
   "cell_type": "code",
   "execution_count": 128,
   "id": "1e76658f",
   "metadata": {},
   "outputs": [
    {
     "data": {
      "text/html": [
       "<div>\n",
       "<style scoped>\n",
       "    .dataframe tbody tr th:only-of-type {\n",
       "        vertical-align: middle;\n",
       "    }\n",
       "\n",
       "    .dataframe tbody tr th {\n",
       "        vertical-align: top;\n",
       "    }\n",
       "\n",
       "    .dataframe thead th {\n",
       "        text-align: right;\n",
       "    }\n",
       "</style>\n",
       "<table border=\"1\" class=\"dataframe\">\n",
       "  <thead>\n",
       "    <tr style=\"text-align: right;\">\n",
       "      <th></th>\n",
       "      <th>link</th>\n",
       "      <th>news_list</th>\n",
       "      <th>summary</th>\n",
       "      <th>sentiment</th>\n",
       "      <th>confidence</th>\n",
       "      <th>related_company_names</th>\n",
       "    </tr>\n",
       "  </thead>\n",
       "  <tbody>\n",
       "    <tr>\n",
       "      <th>0</th>\n",
       "      <td>https://www.financialexpress.com/industry/bank...</td>\n",
       "      <td>Private banks grow deposits at a faster ...</td>\n",
       "      <td>The deposit mobilisation gap between PSBs and ...</td>\n",
       "      <td>Positive</td>\n",
       "      <td>0.999328</td>\n",
       "      <td>[PSB, PSU, PSB, StateBankofIndia, PunjabNation...</td>\n",
       "    </tr>\n",
       "    <tr>\n",
       "      <th>1</th>\n",
       "      <td>https://www.financialexpress.com/industry/airt...</td>\n",
       "      <td>Airtel sees 108% jump in subscription fo...</td>\n",
       "      <td>India’s second-largest telecom operator Bharti...</td>\n",
       "      <td>Positive</td>\n",
       "      <td>0.920897</td>\n",
       "      <td>[BhartiAirtel]</td>\n",
       "    </tr>\n",
       "    <tr>\n",
       "      <th>2</th>\n",
       "      <td>https://www.financialexpress.com/money/retirem...</td>\n",
       "      <td>Retirement funds: Don’t crack your nest ...</td>\n",
       "      <td>Retirement funds: Don’t crack your nest eggTak...</td>\n",
       "      <td>Positive</td>\n",
       "      <td>0.999942</td>\n",
       "      <td>[N, EP, L, Mahindra, ScorpioN, Bolero]</td>\n",
       "    </tr>\n",
       "    <tr>\n",
       "      <th>3</th>\n",
       "      <td>https://www.financialexpress.com/money/estate-...</td>\n",
       "      <td>Estate Planning: No heirs? Ways to plan ...</td>\n",
       "      <td>Estate Planning: No heirs? Ways to plan who wi...</td>\n",
       "      <td>Positive</td>\n",
       "      <td>0.999999</td>\n",
       "      <td>[FinancialExpress, L, L, Mahindra, ScorpioN, B...</td>\n",
       "    </tr>\n",
       "    <tr>\n",
       "      <th>4</th>\n",
       "      <td>https://www.financialexpress.com/industry/indi...</td>\n",
       "      <td>India adds 60 GCCs in Q4 of FY23 | The F...</td>\n",
       "      <td>India added around 60 global capacity centres ...</td>\n",
       "      <td>Positive</td>\n",
       "      <td>0.656367</td>\n",
       "      <td>[R]</td>\n",
       "    </tr>\n",
       "  </tbody>\n",
       "</table>\n",
       "</div>"
      ],
      "text/plain": [
       "                                                link  \\\n",
       "0  https://www.financialexpress.com/industry/bank...   \n",
       "1  https://www.financialexpress.com/industry/airt...   \n",
       "2  https://www.financialexpress.com/money/retirem...   \n",
       "3  https://www.financialexpress.com/money/estate-...   \n",
       "4  https://www.financialexpress.com/industry/indi...   \n",
       "\n",
       "                                           news_list  \\\n",
       "0        Private banks grow deposits at a faster ...   \n",
       "1        Airtel sees 108% jump in subscription fo...   \n",
       "2        Retirement funds: Don’t crack your nest ...   \n",
       "3        Estate Planning: No heirs? Ways to plan ...   \n",
       "4        India adds 60 GCCs in Q4 of FY23 | The F...   \n",
       "\n",
       "                                             summary sentiment  confidence  \\\n",
       "0  The deposit mobilisation gap between PSBs and ...  Positive    0.999328   \n",
       "1  India’s second-largest telecom operator Bharti...  Positive    0.920897   \n",
       "2  Retirement funds: Don’t crack your nest eggTak...  Positive    0.999942   \n",
       "3  Estate Planning: No heirs? Ways to plan who wi...  Positive    0.999999   \n",
       "4  India added around 60 global capacity centres ...  Positive    0.656367   \n",
       "\n",
       "                               related_company_names  \n",
       "0  [PSB, PSU, PSB, StateBankofIndia, PunjabNation...  \n",
       "1                                     [BhartiAirtel]  \n",
       "2             [N, EP, L, Mahindra, ScorpioN, Bolero]  \n",
       "3  [FinancialExpress, L, L, Mahindra, ScorpioN, B...  \n",
       "4                                                [R]  "
      ]
     },
     "execution_count": 128,
     "metadata": {},
     "output_type": "execute_result"
    }
   ],
   "source": [
    "df['related_company_names'] = df['summary'].apply(lambda x: companyName(x))\n",
    "df.head()"
   ]
  },
  {
   "cell_type": "code",
   "execution_count": 129,
   "id": "4df7dbb8",
   "metadata": {},
   "outputs": [],
   "source": [
    "df.to_csv('latest_news_02_06_2023.csv',index=False)"
   ]
  }
 ],
 "metadata": {
  "kernelspec": {
   "display_name": "Python 3 (ipykernel)",
   "language": "python",
   "name": "python3"
  },
  "language_info": {
   "codemirror_mode": {
    "name": "ipython",
    "version": 3
   },
   "file_extension": ".py",
   "mimetype": "text/x-python",
   "name": "python",
   "nbconvert_exporter": "python",
   "pygments_lexer": "ipython3",
   "version": "3.10.9"
  }
 },
 "nbformat": 4,
 "nbformat_minor": 5
}
